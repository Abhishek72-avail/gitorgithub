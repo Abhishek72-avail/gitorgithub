{
 "cells": [
  {
   "cell_type": "code",
   "execution_count": 2,
   "metadata": {},
   "outputs": [
    {
     "name": "stdout",
     "output_type": "stream",
     "text": [
      "Defaulting to user installation because normal site-packages is not writeable\n",
      "Collecting boto3\n",
      "  Using cached boto3-1.35.90-py3-none-any.whl.metadata (6.7 kB)\n",
      "Collecting botocore<1.36.0,>=1.35.90 (from boto3)\n",
      "  Using cached botocore-1.35.90-py3-none-any.whl.metadata (5.7 kB)\n",
      "Collecting jmespath<2.0.0,>=0.7.1 (from boto3)\n",
      "  Using cached jmespath-1.0.1-py3-none-any.whl.metadata (7.6 kB)\n",
      "Collecting s3transfer<0.11.0,>=0.10.0 (from boto3)\n",
      "  Using cached s3transfer-0.10.4-py3-none-any.whl.metadata (1.7 kB)\n",
      "Requirement already satisfied: python-dateutil<3.0.0,>=2.1 in c:\\users\\abhis\\appdata\\local\\packages\\pythonsoftwarefoundation.python.3.13_qbz5n2kfra8p0\\localcache\\local-packages\\python313\\site-packages (from botocore<1.36.0,>=1.35.90->boto3) (2.9.0.post0)\n",
      "Collecting urllib3!=2.2.0,<3,>=1.25.4 (from botocore<1.36.0,>=1.35.90->boto3)\n",
      "  Downloading urllib3-2.3.0-py3-none-any.whl.metadata (6.5 kB)\n",
      "Requirement already satisfied: six>=1.5 in c:\\users\\abhis\\appdata\\local\\packages\\pythonsoftwarefoundation.python.3.13_qbz5n2kfra8p0\\localcache\\local-packages\\python313\\site-packages (from python-dateutil<3.0.0,>=2.1->botocore<1.36.0,>=1.35.90->boto3) (1.17.0)\n",
      "Using cached boto3-1.35.90-py3-none-any.whl (139 kB)\n",
      "Using cached botocore-1.35.90-py3-none-any.whl (13.3 MB)\n",
      "Using cached jmespath-1.0.1-py3-none-any.whl (20 kB)\n",
      "Using cached s3transfer-0.10.4-py3-none-any.whl (83 kB)\n",
      "Downloading urllib3-2.3.0-py3-none-any.whl (128 kB)\n",
      "Installing collected packages: urllib3, jmespath, botocore, s3transfer, boto3\n",
      "Successfully installed boto3-1.35.90 botocore-1.35.90 jmespath-1.0.1 s3transfer-0.10.4 urllib3-2.3.0\n",
      "Note: you may need to restart the kernel to use updated packages.\n"
     ]
    }
   ],
   "source": [
    "pip install boto3"
   ]
  },
  {
   "cell_type": "code",
   "execution_count": 5,
   "metadata": {},
   "outputs": [
    {
     "name": "stdout",
     "output_type": "stream",
     "text": [
      "An error occurred: An error occurred (InvalidKeyPair.NotFound) when calling the RunInstances operation: The key pair 'jenkins' does not exist\n"
     ]
    }
   ],
   "source": [
    "import boto3\n",
    "\n",
    "# Initialize a session using Boto3\n",
    "ec2 = boto3.client('ec2', region_name='ap-south-1')  # Change region_name if needed\n",
    "\n",
    "# Define parameters for the instance\n",
    "instance_params = {\n",
    "    'ImageId': 'ami-053b12d3152c0cc71',  # Replace with your AMI ID\n",
    "    'InstanceType': 't2.micro',         # Replace with desired instance type\n",
    "    'KeyName': 'jenkins',    # Replace with your key pair name\n",
    "    'MinCount': 1,                      # Minimum number of instances\n",
    "    'MaxCount': 1,                      # Maximum number of instances\n",
    "    'TagSpecifications': [\n",
    "        {\n",
    "            'ResourceType': 'instance',\n",
    "            'Tags': [\n",
    "                {'Key': 'Name', 'Value': 'mydemoec2'}  # Replace with your tag\n",
    "            ]\n",
    "        }\n",
    "    ]\n",
    "}\n",
    "\n",
    "try:\n",
    "    # Create an EC2 instance\n",
    "    response = ec2.run_instances(**instance_params)\n",
    "    \n",
    "    # Get information about the created instance\n",
    "    instance_id = response['Instances'][0]['InstanceId']\n",
    "    print(f\"EC2 Instance created with ID: {instance_id}\")\n",
    "\n",
    "except Exception as e:\n",
    "    print(f\"An error occurred: {e}\")\n"
   ]
  },
  {
   "cell_type": "code",
   "execution_count": null,
   "metadata": {},
   "outputs": [],
   "source": []
  }
 ],
 "metadata": {
  "kernelspec": {
   "display_name": "Python 3",
   "language": "python",
   "name": "python3"
  },
  "language_info": {
   "codemirror_mode": {
    "name": "ipython",
    "version": 3
   },
   "file_extension": ".py",
   "mimetype": "text/x-python",
   "name": "python",
   "nbconvert_exporter": "python",
   "pygments_lexer": "ipython3",
   "version": "3.13.1"
  }
 },
 "nbformat": 4,
 "nbformat_minor": 2
}
